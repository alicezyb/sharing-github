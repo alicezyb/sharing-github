{
 "cells": [
  {
   "cell_type": "code",
   "execution_count": 1,
   "metadata": {},
   "outputs": [
    {
     "data": {
      "text/plain": [
       "'/Users/yingbo/Documents/BX Data PMP Take-Home 2019'"
      ]
     },
     "execution_count": 1,
     "metadata": {},
     "output_type": "execute_result"
    }
   ],
   "source": [
    "# Change working directory\n",
    "import os\n",
    "os.chdir('/Users/yingbo/Documents/BX Data PMP Take-Home 2019')\n",
    "os.getcwd()"
   ]
  },
  {
   "cell_type": "code",
   "execution_count": 2,
   "metadata": {},
   "outputs": [],
   "source": [
    "# Load the Pandas libraries with alias 'pd'\n",
    "import pandas as pd\n",
    "from pandas import DataFrame\n",
    "import numpy as np\n",
    "import matplotlib.pyplot as plt\n",
    "from matplotlib.ticker import PercentFormatter\n",
    "%matplotlib inline\n",
    "import seaborn as sns\n",
    "\n",
    "#from sklearn import model_selection\n",
    "#from sklearn.metrics import classification_report\n",
    "#from sklearn.metrics import confusion_matrix\n",
    "#from sklearn.metrics import accuracy_score\n",
    "#from sklearn.linear_model import LogisticRegression\n",
    "#from sklearn.tree import DecisionTreeClassifier\n",
    "#from sklearn.neighbors import KNeighborsClassifier\n",
    "#from sklearn.discriminant_analysis import LinearDiscriminantAnalysis\n",
    "#from sklearn.naive_bayes import GaussianNB\n",
    "#from sklearn.svm import SVC"
   ]
  },
  {
   "cell_type": "code",
   "execution_count": 3,
   "metadata": {},
   "outputs": [],
   "source": [
    "# Set up decimal places for display purposes\n",
    "pd.options.display.float_format = '{:,.2f}'.format"
   ]
  },
  {
   "cell_type": "code",
   "execution_count": 4,
   "metadata": {},
   "outputs": [],
   "source": [
    "# Read data from file 'pmp_takehome_2019.csv'\n",
    "data = pd.read_csv('pmp_takehome_2019.csv')"
   ]
  },
  {
   "cell_type": "code",
   "execution_count": 5,
   "metadata": {},
   "outputs": [
    {
     "data": {
      "text/html": [
       "<div>\n",
       "<style scoped>\n",
       "    .dataframe tbody tr th:only-of-type {\n",
       "        vertical-align: middle;\n",
       "    }\n",
       "\n",
       "    .dataframe tbody tr th {\n",
       "        vertical-align: top;\n",
       "    }\n",
       "\n",
       "    .dataframe thead th {\n",
       "        text-align: right;\n",
       "    }\n",
       "</style>\n",
       "<table border=\"1\" class=\"dataframe\">\n",
       "  <thead>\n",
       "    <tr style=\"text-align: right;\">\n",
       "      <th></th>\n",
       "      <th>Location number</th>\n",
       "      <th>Month</th>\n",
       "      <th>State</th>\n",
       "      <th>Gross revenue</th>\n",
       "      <th>Fixed cost</th>\n",
       "      <th>Variable cost</th>\n",
       "      <th>Rental cost</th>\n",
       "      <th>Number of products</th>\n",
       "      <th>Owned</th>\n",
       "    </tr>\n",
       "  </thead>\n",
       "  <tbody>\n",
       "    <tr>\n",
       "      <th>0</th>\n",
       "      <td>1</td>\n",
       "      <td>1</td>\n",
       "      <td>TX</td>\n",
       "      <td>48,628,171.02</td>\n",
       "      <td>9,218,156.69</td>\n",
       "      <td>24,278,189.23</td>\n",
       "      <td>365880</td>\n",
       "      <td>4452</td>\n",
       "      <td>False</td>\n",
       "    </tr>\n",
       "    <tr>\n",
       "      <th>1</th>\n",
       "      <td>1</td>\n",
       "      <td>2</td>\n",
       "      <td>TX</td>\n",
       "      <td>48,107,179.24</td>\n",
       "      <td>10,587,747.35</td>\n",
       "      <td>25,116,844.41</td>\n",
       "      <td>365880</td>\n",
       "      <td>4452</td>\n",
       "      <td>False</td>\n",
       "    </tr>\n",
       "    <tr>\n",
       "      <th>2</th>\n",
       "      <td>1</td>\n",
       "      <td>3</td>\n",
       "      <td>TX</td>\n",
       "      <td>64,352,278.29</td>\n",
       "      <td>10,193,873.77</td>\n",
       "      <td>33,703,499.83</td>\n",
       "      <td>365880</td>\n",
       "      <td>4452</td>\n",
       "      <td>False</td>\n",
       "    </tr>\n",
       "    <tr>\n",
       "      <th>3</th>\n",
       "      <td>1</td>\n",
       "      <td>4</td>\n",
       "      <td>TX</td>\n",
       "      <td>45,943,677.96</td>\n",
       "      <td>8,764,165.00</td>\n",
       "      <td>24,037,719.47</td>\n",
       "      <td>365880</td>\n",
       "      <td>4452</td>\n",
       "      <td>False</td>\n",
       "    </tr>\n",
       "    <tr>\n",
       "      <th>4</th>\n",
       "      <td>1</td>\n",
       "      <td>5</td>\n",
       "      <td>TX</td>\n",
       "      <td>32,761,434.98</td>\n",
       "      <td>8,022,116.43</td>\n",
       "      <td>16,432,119.18</td>\n",
       "      <td>365880</td>\n",
       "      <td>4452</td>\n",
       "      <td>False</td>\n",
       "    </tr>\n",
       "  </tbody>\n",
       "</table>\n",
       "</div>"
      ],
      "text/plain": [
       "   Location number  Month State  Gross revenue    Fixed cost  Variable cost  \\\n",
       "0                1      1    TX  48,628,171.02  9,218,156.69  24,278,189.23   \n",
       "1                1      2    TX  48,107,179.24 10,587,747.35  25,116,844.41   \n",
       "2                1      3    TX  64,352,278.29 10,193,873.77  33,703,499.83   \n",
       "3                1      4    TX  45,943,677.96  8,764,165.00  24,037,719.47   \n",
       "4                1      5    TX  32,761,434.98  8,022,116.43  16,432,119.18   \n",
       "\n",
       "   Rental cost  Number of products  Owned  \n",
       "0       365880                4452  False  \n",
       "1       365880                4452  False  \n",
       "2       365880                4452  False  \n",
       "3       365880                4452  False  \n",
       "4       365880                4452  False  "
      ]
     },
     "execution_count": 5,
     "metadata": {},
     "output_type": "execute_result"
    }
   ],
   "source": [
    "# Preview the first five lines of the loaded data\n",
    "data.head()"
   ]
  },
  {
   "cell_type": "code",
   "execution_count": 6,
   "metadata": {},
   "outputs": [
    {
     "data": {
      "text/html": [
       "<div>\n",
       "<style scoped>\n",
       "    .dataframe tbody tr th:only-of-type {\n",
       "        vertical-align: middle;\n",
       "    }\n",
       "\n",
       "    .dataframe tbody tr th {\n",
       "        vertical-align: top;\n",
       "    }\n",
       "\n",
       "    .dataframe thead th {\n",
       "        text-align: right;\n",
       "    }\n",
       "</style>\n",
       "<table border=\"1\" class=\"dataframe\">\n",
       "  <thead>\n",
       "    <tr style=\"text-align: right;\">\n",
       "      <th></th>\n",
       "      <th>Location number</th>\n",
       "      <th>Month</th>\n",
       "      <th>State</th>\n",
       "      <th>Gross revenue</th>\n",
       "      <th>Fixed cost</th>\n",
       "      <th>Variable cost</th>\n",
       "      <th>Rental cost</th>\n",
       "      <th>Number of products</th>\n",
       "      <th>Owned</th>\n",
       "    </tr>\n",
       "  </thead>\n",
       "  <tbody>\n",
       "    <tr>\n",
       "      <th>3991</th>\n",
       "      <td>333</td>\n",
       "      <td>8</td>\n",
       "      <td>TX</td>\n",
       "      <td>56,295,415.57</td>\n",
       "      <td>10,711,406.46</td>\n",
       "      <td>29,142,010.15</td>\n",
       "      <td>286920</td>\n",
       "      <td>4478</td>\n",
       "      <td>False</td>\n",
       "    </tr>\n",
       "    <tr>\n",
       "      <th>3992</th>\n",
       "      <td>333</td>\n",
       "      <td>9</td>\n",
       "      <td>TX</td>\n",
       "      <td>63,512,936.32</td>\n",
       "      <td>12,675,148.57</td>\n",
       "      <td>32,346,778.80</td>\n",
       "      <td>286920</td>\n",
       "      <td>4478</td>\n",
       "      <td>False</td>\n",
       "    </tr>\n",
       "    <tr>\n",
       "      <th>3993</th>\n",
       "      <td>333</td>\n",
       "      <td>10</td>\n",
       "      <td>TX</td>\n",
       "      <td>54,062,593.50</td>\n",
       "      <td>9,784,913.45</td>\n",
       "      <td>28,299,846.81</td>\n",
       "      <td>286920</td>\n",
       "      <td>4478</td>\n",
       "      <td>False</td>\n",
       "    </tr>\n",
       "    <tr>\n",
       "      <th>3994</th>\n",
       "      <td>333</td>\n",
       "      <td>11</td>\n",
       "      <td>TX</td>\n",
       "      <td>48,903,414.85</td>\n",
       "      <td>10,638,082.89</td>\n",
       "      <td>25,285,040.20</td>\n",
       "      <td>286920</td>\n",
       "      <td>4478</td>\n",
       "      <td>False</td>\n",
       "    </tr>\n",
       "    <tr>\n",
       "      <th>3995</th>\n",
       "      <td>333</td>\n",
       "      <td>12</td>\n",
       "      <td>TX</td>\n",
       "      <td>51,545,858.60</td>\n",
       "      <td>12,015,981.35</td>\n",
       "      <td>27,876,421.94</td>\n",
       "      <td>286920</td>\n",
       "      <td>4478</td>\n",
       "      <td>False</td>\n",
       "    </tr>\n",
       "  </tbody>\n",
       "</table>\n",
       "</div>"
      ],
      "text/plain": [
       "      Location number  Month State  Gross revenue    Fixed cost  \\\n",
       "3991              333      8    TX  56,295,415.57 10,711,406.46   \n",
       "3992              333      9    TX  63,512,936.32 12,675,148.57   \n",
       "3993              333     10    TX  54,062,593.50  9,784,913.45   \n",
       "3994              333     11    TX  48,903,414.85 10,638,082.89   \n",
       "3995              333     12    TX  51,545,858.60 12,015,981.35   \n",
       "\n",
       "      Variable cost  Rental cost  Number of products  Owned  \n",
       "3991  29,142,010.15       286920                4478  False  \n",
       "3992  32,346,778.80       286920                4478  False  \n",
       "3993  28,299,846.81       286920                4478  False  \n",
       "3994  25,285,040.20       286920                4478  False  \n",
       "3995  27,876,421.94       286920                4478  False  "
      ]
     },
     "execution_count": 6,
     "metadata": {},
     "output_type": "execute_result"
    }
   ],
   "source": [
    "# Preview the last five lines of the loaded data\n",
    "data.tail()"
   ]
  },
  {
   "cell_type": "code",
   "execution_count": 7,
   "metadata": {},
   "outputs": [
    {
     "data": {
      "text/plain": [
       "Index(['location_number', 'month', 'state', 'gross_revenue', 'fixed_cost',\n",
       "       'variable_cost', 'rental_cost', 'number_of_products', 'owned'],\n",
       "      dtype='object')"
      ]
     },
     "execution_count": 7,
     "metadata": {},
     "output_type": "execute_result"
    }
   ],
   "source": [
    "# Fix the column names\n",
    "data.columns = data.columns.str.strip().str.lower().str.replace(' ', '_').str.replace('(', '').str.replace(')', '')\n",
    "data.columns"
   ]
  },
  {
   "cell_type": "code",
   "execution_count": 8,
   "metadata": {},
   "outputs": [
    {
     "data": {
      "text/plain": [
       "location_number         int64\n",
       "month                   int64\n",
       "state                  object\n",
       "gross_revenue         float64\n",
       "fixed_cost            float64\n",
       "variable_cost         float64\n",
       "rental_cost             int64\n",
       "number_of_products      int64\n",
       "owned                    bool\n",
       "dtype: object"
      ]
     },
     "execution_count": 8,
     "metadata": {},
     "output_type": "execute_result"
    }
   ],
   "source": [
    "# Check if data types of the variables are as expected\n",
    "data.dtypes"
   ]
  },
  {
   "cell_type": "code",
   "execution_count": 9,
   "metadata": {},
   "outputs": [
    {
     "data": {
      "text/plain": [
       "TX   0.30\n",
       "CA   0.19\n",
       "IL   0.16\n",
       "GA   0.16\n",
       "NJ   0.10\n",
       "CO   0.05\n",
       "WA   0.04\n",
       "Name: state, dtype: float64"
      ]
     },
     "execution_count": 9,
     "metadata": {},
     "output_type": "execute_result"
    }
   ],
   "source": [
    "# Check the unique states in the data and the percentage of total count\n",
    "data['state'].value_counts(normalize = True, sort = True)\n",
    "#data['state'].value_counts(normalize = True, sort = True).plot(kind='barh')"
   ]
  },
  {
   "cell_type": "code",
   "execution_count": 10,
   "metadata": {},
   "outputs": [
    {
     "data": {
      "text/plain": [
       "False   0.89\n",
       "True    0.11\n",
       "Name: owned, dtype: float64"
      ]
     },
     "execution_count": 10,
     "metadata": {},
     "output_type": "execute_result"
    }
   ],
   "source": [
    "# Check the percentage of owned and leased locations\n",
    "data['owned'].value_counts(normalize = True, sort = True)"
   ]
  },
  {
   "cell_type": "code",
   "execution_count": 11,
   "metadata": {},
   "outputs": [
    {
     "data": {
      "text/plain": [
       "state  owned\n",
       "CA     False   0.95\n",
       "       True    0.05\n",
       "CO     False   0.87\n",
       "       True    0.13\n",
       "GA     False   0.93\n",
       "       True    0.07\n",
       "IL     False   0.78\n",
       "       True    0.22\n",
       "NJ     False   0.91\n",
       "       True    0.09\n",
       "TX     False   0.89\n",
       "       True    0.11\n",
       "WA     False   0.93\n",
       "       True    0.07\n",
       "Name: owned, dtype: float64"
      ]
     },
     "execution_count": 11,
     "metadata": {},
     "output_type": "execute_result"
    }
   ],
   "source": [
    "# Check the percentage of owned and leased locations by state\n",
    "data.groupby(['state'])['owned'].value_counts(normalize = True)"
   ]
  },
  {
   "cell_type": "code",
   "execution_count": 12,
   "metadata": {},
   "outputs": [
    {
     "data": {
      "text/plain": [
       "count         3,996.00\n",
       "mean     30,091,813.00\n",
       "std      16,563,743.00\n",
       "min       3,307,785.00\n",
       "25%      18,828,098.00\n",
       "50%      26,314,156.00\n",
       "75%      37,271,729.00\n",
       "max     118,458,181.00\n",
       "Name: gross_revenue, dtype: float64"
      ]
     },
     "execution_count": 12,
     "metadata": {},
     "output_type": "execute_result"
    }
   ],
   "source": [
    "np.round(data['gross_revenue'].describe())"
   ]
  },
  {
   "cell_type": "code",
   "execution_count": 13,
   "metadata": {},
   "outputs": [
    {
     "data": {
      "text/html": [
       "<div>\n",
       "<style scoped>\n",
       "    .dataframe tbody tr th:only-of-type {\n",
       "        vertical-align: middle;\n",
       "    }\n",
       "\n",
       "    .dataframe tbody tr th {\n",
       "        vertical-align: top;\n",
       "    }\n",
       "\n",
       "    .dataframe thead th {\n",
       "        text-align: right;\n",
       "    }\n",
       "</style>\n",
       "<table border=\"1\" class=\"dataframe\">\n",
       "  <thead>\n",
       "    <tr style=\"text-align: right;\">\n",
       "      <th></th>\n",
       "      <th></th>\n",
       "      <th>rental_cost</th>\n",
       "    </tr>\n",
       "    <tr>\n",
       "      <th>state</th>\n",
       "      <th>owned</th>\n",
       "      <th></th>\n",
       "    </tr>\n",
       "  </thead>\n",
       "  <tbody>\n",
       "    <tr>\n",
       "      <th rowspan=\"2\" valign=\"top\">CA</th>\n",
       "      <th>False</th>\n",
       "      <td>117046080</td>\n",
       "    </tr>\n",
       "    <tr>\n",
       "      <th>True</th>\n",
       "      <td>0</td>\n",
       "    </tr>\n",
       "    <tr>\n",
       "      <th rowspan=\"2\" valign=\"top\">CO</th>\n",
       "      <th>False</th>\n",
       "      <td>24874920</td>\n",
       "    </tr>\n",
       "    <tr>\n",
       "      <th>True</th>\n",
       "      <td>0</td>\n",
       "    </tr>\n",
       "    <tr>\n",
       "      <th rowspan=\"2\" valign=\"top\">GA</th>\n",
       "      <th>False</th>\n",
       "      <td>91640400</td>\n",
       "    </tr>\n",
       "    <tr>\n",
       "      <th>True</th>\n",
       "      <td>0</td>\n",
       "    </tr>\n",
       "    <tr>\n",
       "      <th rowspan=\"2\" valign=\"top\">IL</th>\n",
       "      <th>False</th>\n",
       "      <td>80161200</td>\n",
       "    </tr>\n",
       "    <tr>\n",
       "      <th>True</th>\n",
       "      <td>0</td>\n",
       "    </tr>\n",
       "    <tr>\n",
       "      <th rowspan=\"2\" valign=\"top\">NJ</th>\n",
       "      <th>False</th>\n",
       "      <td>57669240</td>\n",
       "    </tr>\n",
       "    <tr>\n",
       "      <th>True</th>\n",
       "      <td>0</td>\n",
       "    </tr>\n",
       "    <tr>\n",
       "      <th rowspan=\"2\" valign=\"top\">TX</th>\n",
       "      <th>False</th>\n",
       "      <td>193072560</td>\n",
       "    </tr>\n",
       "    <tr>\n",
       "      <th>True</th>\n",
       "      <td>0</td>\n",
       "    </tr>\n",
       "    <tr>\n",
       "      <th rowspan=\"2\" valign=\"top\">WA</th>\n",
       "      <th>False</th>\n",
       "      <td>25829640</td>\n",
       "    </tr>\n",
       "    <tr>\n",
       "      <th>True</th>\n",
       "      <td>0</td>\n",
       "    </tr>\n",
       "  </tbody>\n",
       "</table>\n",
       "</div>"
      ],
      "text/plain": [
       "             rental_cost\n",
       "state owned             \n",
       "CA    False    117046080\n",
       "      True             0\n",
       "CO    False     24874920\n",
       "      True             0\n",
       "GA    False     91640400\n",
       "      True             0\n",
       "IL    False     80161200\n",
       "      True             0\n",
       "NJ    False     57669240\n",
       "      True             0\n",
       "TX    False    193072560\n",
       "      True             0\n",
       "WA    False     25829640\n",
       "      True             0"
      ]
     },
     "execution_count": 13,
     "metadata": {},
     "output_type": "execute_result"
    }
   ],
   "source": [
    "# Check the total rental cost for owned and rental locations by state\n",
    "data.groupby(['state', 'owned']).sum()[['rental_cost']]"
   ]
  },
  {
   "cell_type": "code",
   "execution_count": 14,
   "metadata": {},
   "outputs": [],
   "source": [
    "# Part 1 – Summary statistics and plots"
   ]
  },
  {
   "cell_type": "code",
   "execution_count": 15,
   "metadata": {},
   "outputs": [
    {
     "data": {
      "text/html": [
       "<div>\n",
       "<style scoped>\n",
       "    .dataframe tbody tr th:only-of-type {\n",
       "        vertical-align: middle;\n",
       "    }\n",
       "\n",
       "    .dataframe tbody tr th {\n",
       "        vertical-align: top;\n",
       "    }\n",
       "\n",
       "    .dataframe thead th {\n",
       "        text-align: right;\n",
       "    }\n",
       "</style>\n",
       "<table border=\"1\" class=\"dataframe\">\n",
       "  <thead>\n",
       "    <tr style=\"text-align: right;\">\n",
       "      <th></th>\n",
       "      <th>location_number</th>\n",
       "      <th>state</th>\n",
       "      <th>owned</th>\n",
       "      <th>gross_revenue</th>\n",
       "      <th>fixed_cost</th>\n",
       "      <th>variable_cost</th>\n",
       "      <th>rental_cost</th>\n",
       "      <th>number_of_products</th>\n",
       "      <th>profit_margin</th>\n",
       "    </tr>\n",
       "  </thead>\n",
       "  <tbody>\n",
       "    <tr>\n",
       "      <th>0</th>\n",
       "      <td>1</td>\n",
       "      <td>TX</td>\n",
       "      <td>False</td>\n",
       "      <td>544,738,868.63</td>\n",
       "      <td>110,895,576.69</td>\n",
       "      <td>279,368,713.89</td>\n",
       "      <td>4390560</td>\n",
       "      <td>53424</td>\n",
       "      <td>0.28</td>\n",
       "    </tr>\n",
       "    <tr>\n",
       "      <th>1</th>\n",
       "      <td>2</td>\n",
       "      <td>TX</td>\n",
       "      <td>False</td>\n",
       "      <td>355,973,012.71</td>\n",
       "      <td>72,873,948.79</td>\n",
       "      <td>193,729,099.95</td>\n",
       "      <td>783240</td>\n",
       "      <td>54024</td>\n",
       "      <td>0.25</td>\n",
       "    </tr>\n",
       "    <tr>\n",
       "      <th>2</th>\n",
       "      <td>3</td>\n",
       "      <td>IL</td>\n",
       "      <td>True</td>\n",
       "      <td>331,771,805.46</td>\n",
       "      <td>64,297,748.55</td>\n",
       "      <td>184,827,877.00</td>\n",
       "      <td>0</td>\n",
       "      <td>55440</td>\n",
       "      <td>0.25</td>\n",
       "    </tr>\n",
       "    <tr>\n",
       "      <th>3</th>\n",
       "      <td>4</td>\n",
       "      <td>GA</td>\n",
       "      <td>False</td>\n",
       "      <td>263,984,311.31</td>\n",
       "      <td>64,104,092.80</td>\n",
       "      <td>143,239,809.71</td>\n",
       "      <td>1696920</td>\n",
       "      <td>53772</td>\n",
       "      <td>0.21</td>\n",
       "    </tr>\n",
       "    <tr>\n",
       "      <th>4</th>\n",
       "      <td>5</td>\n",
       "      <td>NJ</td>\n",
       "      <td>False</td>\n",
       "      <td>189,001,593.49</td>\n",
       "      <td>44,750,496.24</td>\n",
       "      <td>103,755,318.74</td>\n",
       "      <td>894000</td>\n",
       "      <td>54396</td>\n",
       "      <td>0.21</td>\n",
       "    </tr>\n",
       "  </tbody>\n",
       "</table>\n",
       "</div>"
      ],
      "text/plain": [
       "   location_number state  owned  gross_revenue     fixed_cost  variable_cost  \\\n",
       "0                1    TX  False 544,738,868.63 110,895,576.69 279,368,713.89   \n",
       "1                2    TX  False 355,973,012.71  72,873,948.79 193,729,099.95   \n",
       "2                3    IL   True 331,771,805.46  64,297,748.55 184,827,877.00   \n",
       "3                4    GA  False 263,984,311.31  64,104,092.80 143,239,809.71   \n",
       "4                5    NJ  False 189,001,593.49  44,750,496.24 103,755,318.74   \n",
       "\n",
       "   rental_cost  number_of_products  profit_margin  \n",
       "0      4390560               53424           0.28  \n",
       "1       783240               54024           0.25  \n",
       "2            0               55440           0.25  \n",
       "3      1696920               53772           0.21  \n",
       "4       894000               54396           0.21  "
      ]
     },
     "execution_count": 15,
     "metadata": {},
     "output_type": "execute_result"
    }
   ],
   "source": [
    "## 1) Looking across all locations, calculate the mean and median annual profit margin of a typical store. \n",
    "\n",
    "# Aggregate the data to calculate annual profit margin by location\n",
    "data_annual = data.groupby(['location_number', 'state', 'owned']).sum()[['gross_revenue', 'fixed_cost', \n",
    "                                                                         'variable_cost', 'rental_cost', \n",
    "                                                                         'number_of_products']].reset_index()\n",
    "data_annual['profit_margin'] = (data_annual.gross_revenue - data_annual.fixed_cost - \n",
    "                                data_annual.variable_cost - data_annual.rental_cost) / data_annual.gross_revenue\n",
    "\n",
    "data_annual.head()"
   ]
  },
  {
   "cell_type": "code",
   "execution_count": 16,
   "metadata": {},
   "outputs": [
    {
     "name": "stdout",
     "output_type": "stream",
     "text": [
      "Mean profit margin is 24.86%\n",
      "Median profit margin is 26.18%\n"
     ]
    }
   ],
   "source": [
    "# calculate the mean and median annual profit margin of a typical store\n",
    "mean = data_annual.profit_margin.mean()\n",
    "print('Mean profit margin is ' + str(\"{:.2%}\".format(mean)))\n",
    "\n",
    "median = data_annual.profit_margin.median()\n",
    "print('Median profit margin is ' + str(\"{:.2%}\".format(median)))"
   ]
  },
  {
   "cell_type": "code",
   "execution_count": 17,
   "metadata": {},
   "outputs": [
    {
     "data": {
      "image/png": "[encoded data removed]",
      "text/plain": [
       "<Figure size 432x288 with 1 Axes>"
      ]
     },
     "metadata": {
      "needs_background": "light"
     },
     "output_type": "display_data"
    }
   ],
   "source": [
    "## Does the profit margin across locations appear normally distributed? Please visualize.\n",
    "plt.hist(data_annual.profit_margin, 50,\n",
    "         density = False,\n",
    "         histtype = 'bar',\n",
    "         color = 'blue',\n",
    "         alpha = 0.5)\n",
    "\n",
    "plt.xlabel('Profit Margin')\n",
    "plt.ylabel('Number of Locations')\n",
    "plt.title('Histogram of Profit Margin')\n",
    "plt.gca().xaxis.set_major_formatter(PercentFormatter(xmax=1, decimals=None, symbol='%', is_latex=False))\n",
    "plt.show()"
   ]
  },
  {
   "cell_type": "code",
   "execution_count": 18,
   "metadata": {},
   "outputs": [
    {
     "data": {
      "image/png": "[encoded data removed]",
      "text/plain": [
       "<Figure size 432x288 with 1 Axes>"
      ]
     },
     "metadata": {
      "needs_background": "light"
     },
     "output_type": "display_data"
    }
   ],
   "source": [
    "data_annual.profit_margin.plot(kind=\"density\")\n",
    "\n",
    "\n",
    "plt.vlines(data_annual.profit_margin.mean(),     # Plot black line at mean\n",
    "           ymin=0, \n",
    "           ymax=7,\n",
    "           linewidth=2.0,\n",
    "           color = 'green')\n",
    "\n",
    "plt.vlines(data_annual.profit_margin.median(),   # Plot red line at median\n",
    "           ymin=0, \n",
    "           ymax=7, \n",
    "           linewidth=2.0,\n",
    "           color='red')\n",
    "\n",
    "plt.show()\n",
    "# The density plot shows that the annual profit margin across all locations is slightly left-skewed, meaning that it is not normally distributed."
   ]
  },
  {
   "cell_type": "code",
   "execution_count": 19,
   "metadata": {},
   "outputs": [
    {
     "data": {
      "text/html": [
       "<div>\n",
       "<style scoped>\n",
       "    .dataframe tbody tr th:only-of-type {\n",
       "        vertical-align: middle;\n",
       "    }\n",
       "\n",
       "    .dataframe tbody tr th {\n",
       "        vertical-align: top;\n",
       "    }\n",
       "\n",
       "    .dataframe thead th {\n",
       "        text-align: right;\n",
       "    }\n",
       "</style>\n",
       "<table border=\"1\" class=\"dataframe\">\n",
       "  <thead>\n",
       "    <tr style=\"text-align: right;\">\n",
       "      <th></th>\n",
       "      <th>month</th>\n",
       "      <th>gross_revenue</th>\n",
       "    </tr>\n",
       "  </thead>\n",
       "  <tbody>\n",
       "    <tr>\n",
       "      <th>0</th>\n",
       "      <td>1</td>\n",
       "      <td>9.30</td>\n",
       "    </tr>\n",
       "    <tr>\n",
       "      <th>1</th>\n",
       "      <td>2</td>\n",
       "      <td>9.79</td>\n",
       "    </tr>\n",
       "    <tr>\n",
       "      <th>2</th>\n",
       "      <td>3</td>\n",
       "      <td>11.59</td>\n",
       "    </tr>\n",
       "    <tr>\n",
       "      <th>3</th>\n",
       "      <td>4</td>\n",
       "      <td>9.11</td>\n",
       "    </tr>\n",
       "    <tr>\n",
       "      <th>4</th>\n",
       "      <td>5</td>\n",
       "      <td>9.35</td>\n",
       "    </tr>\n",
       "    <tr>\n",
       "      <th>5</th>\n",
       "      <td>6</td>\n",
       "      <td>11.30</td>\n",
       "    </tr>\n",
       "    <tr>\n",
       "      <th>6</th>\n",
       "      <td>7</td>\n",
       "      <td>9.01</td>\n",
       "    </tr>\n",
       "    <tr>\n",
       "      <th>7</th>\n",
       "      <td>8</td>\n",
       "      <td>9.63</td>\n",
       "    </tr>\n",
       "    <tr>\n",
       "      <th>8</th>\n",
       "      <td>9</td>\n",
       "      <td>11.25</td>\n",
       "    </tr>\n",
       "    <tr>\n",
       "      <th>9</th>\n",
       "      <td>10</td>\n",
       "      <td>9.41</td>\n",
       "    </tr>\n",
       "    <tr>\n",
       "      <th>10</th>\n",
       "      <td>11</td>\n",
       "      <td>8.98</td>\n",
       "    </tr>\n",
       "    <tr>\n",
       "      <th>11</th>\n",
       "      <td>12</td>\n",
       "      <td>11.54</td>\n",
       "    </tr>\n",
       "  </tbody>\n",
       "</table>\n",
       "</div>"
      ],
      "text/plain": [
       "    month  gross_revenue\n",
       "0       1           9.30\n",
       "1       2           9.79\n",
       "2       3          11.59\n",
       "3       4           9.11\n",
       "4       5           9.35\n",
       "5       6          11.30\n",
       "6       7           9.01\n",
       "7       8           9.63\n",
       "8       9          11.25\n",
       "9      10           9.41\n",
       "10     11           8.98\n",
       "11     12          11.54"
      ]
     },
     "execution_count": 19,
     "metadata": {},
     "output_type": "execute_result"
    }
   ],
   "source": [
    "## 2) Please plot the monthly and quarterly aggregate revenue across all stores.\n",
    "\n",
    "# Calculate monthly revenue across all stores\n",
    "revenue_monthly = data.groupby('month').sum()[['gross_revenue']].reset_index()\n",
    "\n",
    "# Display the gross revenue in Billions\n",
    "revenue_monthly.gross_revenue = revenue_monthly.gross_revenue / 1000000000\n",
    "revenue_monthly"
   ]
  },
  {
   "cell_type": "code",
   "execution_count": 20,
   "metadata": {},
   "outputs": [],
   "source": [
    "# Create a function for charting purposes\n",
    "def plot(x, y, ax, title, x_label, y_label, xmin, xmax, xfreq, ymin, ymax, param_dict):\n",
    "    ax.set_title(title)\n",
    "    ax.set_xlabel(x_label)\n",
    "    ax.set_ylabel(y_label)\n",
    "    ax.plot(x, y, **param_dict, linewidth = 1, markersize = 5)\n",
    "    ax.margins(x=0, y=0)\n",
    "    ax.set_ylim([ymin,ymax])\n",
    "\n",
    "    plt.xticks(np.arange(xmin, xmax, xfreq))"
   ]
  },
  {
   "cell_type": "code",
   "execution_count": 21,
   "metadata": {},
   "outputs": [
    {
     "data": {
      "image/png": "[encoded data removed]",
      "text/plain": [
       "<Figure size 432x288 with 1 Axes>"
      ]
     },
     "metadata": {
      "needs_background": "light"
     },
     "output_type": "display_data"
    }
   ],
   "source": [
    "# Plot monthly gross revenue across all stores\n",
    "x = revenue_monthly.month\n",
    "y = revenue_monthly.gross_revenue\n",
    "\n",
    "fig, ax = plt.subplots()\n",
    "plot(x, y, ax, 'Monthly Gross Revenue Across All Stores', 'Month', 'Gross Revenue (Billions)', 1, 13, 1, 8.5, 12, {'marker': 'o'})\n",
    "\n",
    "# Output the chart\n",
    "plt.savefig(\"Monthly Gross Revenue Across All Stores.png\")\n",
    "\n",
    "# The chart shows seasonality pattern"
   ]
  },
  {
   "cell_type": "code",
   "execution_count": 22,
   "metadata": {},
   "outputs": [
    {
     "data": {
      "text/plain": [
       "0    9.30\n",
       "1    9.79\n",
       "2   11.59\n",
       "3    9.11\n",
       "Name: gross_revenue, dtype: float64"
      ]
     },
     "execution_count": 22,
     "metadata": {},
     "output_type": "execute_result"
    }
   ],
   "source": [
    "revenue_monthly.loc[0:3, 'gross_revenue']"
   ]
  },
  {
   "cell_type": "code",
   "execution_count": 23,
   "metadata": {},
   "outputs": [
    {
     "data": {
      "text/html": [
       "<div>\n",
       "<style scoped>\n",
       "    .dataframe tbody tr th:only-of-type {\n",
       "        vertical-align: middle;\n",
       "    }\n",
       "\n",
       "    .dataframe tbody tr th {\n",
       "        vertical-align: top;\n",
       "    }\n",
       "\n",
       "    .dataframe thead th {\n",
       "        text-align: right;\n",
       "    }\n",
       "</style>\n",
       "<table border=\"1\" class=\"dataframe\">\n",
       "  <thead>\n",
       "    <tr style=\"text-align: right;\">\n",
       "      <th></th>\n",
       "      <th>month</th>\n",
       "      <th>gross_revenue</th>\n",
       "      <th>QTR</th>\n",
       "    </tr>\n",
       "  </thead>\n",
       "  <tbody>\n",
       "    <tr>\n",
       "      <th>0</th>\n",
       "      <td>1</td>\n",
       "      <td>9.30</td>\n",
       "      <td>1</td>\n",
       "    </tr>\n",
       "    <tr>\n",
       "      <th>1</th>\n",
       "      <td>2</td>\n",
       "      <td>9.79</td>\n",
       "      <td>1</td>\n",
       "    </tr>\n",
       "    <tr>\n",
       "      <th>2</th>\n",
       "      <td>3</td>\n",
       "      <td>11.59</td>\n",
       "      <td>1</td>\n",
       "    </tr>\n",
       "    <tr>\n",
       "      <th>3</th>\n",
       "      <td>4</td>\n",
       "      <td>9.11</td>\n",
       "      <td>2</td>\n",
       "    </tr>\n",
       "    <tr>\n",
       "      <th>4</th>\n",
       "      <td>5</td>\n",
       "      <td>9.35</td>\n",
       "      <td>2</td>\n",
       "    </tr>\n",
       "    <tr>\n",
       "      <th>5</th>\n",
       "      <td>6</td>\n",
       "      <td>11.30</td>\n",
       "      <td>2</td>\n",
       "    </tr>\n",
       "    <tr>\n",
       "      <th>6</th>\n",
       "      <td>7</td>\n",
       "      <td>9.01</td>\n",
       "      <td>3</td>\n",
       "    </tr>\n",
       "    <tr>\n",
       "      <th>7</th>\n",
       "      <td>8</td>\n",
       "      <td>9.63</td>\n",
       "      <td>3</td>\n",
       "    </tr>\n",
       "    <tr>\n",
       "      <th>8</th>\n",
       "      <td>9</td>\n",
       "      <td>11.25</td>\n",
       "      <td>3</td>\n",
       "    </tr>\n",
       "    <tr>\n",
       "      <th>9</th>\n",
       "      <td>10</td>\n",
       "      <td>9.41</td>\n",
       "      <td>4</td>\n",
       "    </tr>\n",
       "    <tr>\n",
       "      <th>10</th>\n",
       "      <td>11</td>\n",
       "      <td>8.98</td>\n",
       "      <td>4</td>\n",
       "    </tr>\n",
       "    <tr>\n",
       "      <th>11</th>\n",
       "      <td>12</td>\n",
       "      <td>11.54</td>\n",
       "      <td>4</td>\n",
       "    </tr>\n",
       "  </tbody>\n",
       "</table>\n",
       "</div>"
      ],
      "text/plain": [
       "    month  gross_revenue  QTR\n",
       "0       1           9.30    1\n",
       "1       2           9.79    1\n",
       "2       3          11.59    1\n",
       "3       4           9.11    2\n",
       "4       5           9.35    2\n",
       "5       6          11.30    2\n",
       "6       7           9.01    3\n",
       "7       8           9.63    3\n",
       "8       9          11.25    3\n",
       "9      10           9.41    4\n",
       "10     11           8.98    4\n",
       "11     12          11.54    4"
      ]
     },
     "execution_count": 23,
     "metadata": {},
     "output_type": "execute_result"
    }
   ],
   "source": [
    "def create_QTR(data):\n",
    "    if np.any(data['month'] == [1,2,3]):\n",
    "        QTR = 1\n",
    "    elif np.any(data['month'] == [4,5,6]):\n",
    "        QTR = 2\n",
    "    elif np.any(data['month'] == [7,8,9]):\n",
    "        QTR = 3\n",
    "    else:\n",
    "        QTR = 4\n",
    "    return QTR\n",
    "\n",
    "revenue_monthly['QTR'] = revenue_monthly.apply(create_QTR, axis=1)\n",
    "\n",
    "revenue_monthly\n"
   ]
  },
  {
   "cell_type": "code",
   "execution_count": 24,
   "metadata": {},
   "outputs": [
    {
     "data": {
      "text/html": [
       "<div>\n",
       "<style scoped>\n",
       "    .dataframe tbody tr th:only-of-type {\n",
       "        vertical-align: middle;\n",
       "    }\n",
       "\n",
       "    .dataframe tbody tr th {\n",
       "        vertical-align: top;\n",
       "    }\n",
       "\n",
       "    .dataframe thead th {\n",
       "        text-align: right;\n",
       "    }\n",
       "</style>\n",
       "<table border=\"1\" class=\"dataframe\">\n",
       "  <thead>\n",
       "    <tr style=\"text-align: right;\">\n",
       "      <th></th>\n",
       "      <th>QTR</th>\n",
       "      <th>gross_revenue</th>\n",
       "    </tr>\n",
       "  </thead>\n",
       "  <tbody>\n",
       "    <tr>\n",
       "      <th>0</th>\n",
       "      <td>1</td>\n",
       "      <td>30.68</td>\n",
       "    </tr>\n",
       "    <tr>\n",
       "      <th>1</th>\n",
       "      <td>2</td>\n",
       "      <td>29.75</td>\n",
       "    </tr>\n",
       "    <tr>\n",
       "      <th>2</th>\n",
       "      <td>3</td>\n",
       "      <td>29.88</td>\n",
       "    </tr>\n",
       "    <tr>\n",
       "      <th>3</th>\n",
       "      <td>4</td>\n",
       "      <td>29.94</td>\n",
       "    </tr>\n",
       "  </tbody>\n",
       "</table>\n",
       "</div>"
      ],
      "text/plain": [
       "   QTR  gross_revenue\n",
       "0    1          30.68\n",
       "1    2          29.75\n",
       "2    3          29.88\n",
       "3    4          29.94"
      ]
     },
     "execution_count": 24,
     "metadata": {},
     "output_type": "execute_result"
    }
   ],
   "source": [
    "# Calculate quarterly revenue across all stores\n",
    "revenue_quarterly = revenue_monthly.groupby('QTR').sum()[['gross_revenue']].reset_index()\n",
    "\n",
    "# Display the gross revenue in Billions\n",
    "revenue_quarterly.gross_revenue = revenue_quarterly.gross_revenue\n",
    "revenue_quarterly"
   ]
  },
  {
   "cell_type": "code",
   "execution_count": 25,
   "metadata": {},
   "outputs": [
    {
     "data": {
      "image/png": "[encoded data removed]",
      "text/plain": [
       "<Figure size 432x288 with 1 Axes>"
      ]
     },
     "metadata": {
      "needs_background": "light"
     },
     "output_type": "display_data"
    }
   ],
   "source": [
    "# Plot quarterly gross revenue across all stores\n",
    "x = revenue_quarterly.QTR\n",
    "y = revenue_quarterly.gross_revenue\n",
    "fig, ax = plt.subplots()\n",
    "plot(x, y, ax, 'Quarterly Gross Revenue Across All Stores', 'Quarter', 'Gross Revenue (Billions)', 1, 5, 1, 29.6, 30.8,\n",
    "     {'marker': 'o'})\n",
    "\n",
    "# Add labels to the plot\n",
    "ax.text(1.2, 30.60, 'Q1 = $30.68 B', fontsize = 10, color = 'green')\n",
    "ax.text(2.0, 29.85, 'Q2 = $29.75 B', fontsize = 10, color = 'green')\n",
    "ax.text(2.8, 29.95, 'Q3 = $29.88 B', fontsize = 10, color = 'green')\n",
    "ax.text(3.75, 29.85, 'Q4 = $29.94 B', fontsize = 10, color = 'green')\n",
    "\n",
    "# Output the chart\n",
    "plt.savefig(\"Quarterly Gross Revenue Across All Stores.png\")"
   ]
  },
  {
   "cell_type": "code",
   "execution_count": 26,
   "metadata": {},
   "outputs": [],
   "source": [
    "# Part 2 – Cleaning the data:\n",
    "\n",
    "# You will have noticed that the company operates both owned and leased locations. \n",
    "# This creates an apples-to-oranges comparison, as only the leased locations are burdened with rental cost. \n",
    "# To prep your data for analysis, please impute an appropriate rental cost for each owned location and recalculate the rent-adjusted annual profit margin.\n"
   ]
  },
  {
   "cell_type": "code",
   "execution_count": 27,
   "metadata": {},
   "outputs": [
    {
     "name": "stdout",
     "output_type": "stream",
     "text": [
      "The average annual profit margin for owned locations is 28.62%\n",
      "The average annual profit margin for leased locations is 24.41%\n"
     ]
    },
    {
     "data": {
      "image/png": "[encoded data removed]",
      "text/plain": [
       "<Figure size 432x288 with 1 Axes>"
      ]
     },
     "metadata": {
      "needs_background": "light"
     },
     "output_type": "display_data"
    },
    {
     "data": {
      "text/plain": [
       "<Figure size 432x288 with 0 Axes>"
      ]
     },
     "metadata": {},
     "output_type": "display_data"
    }
   ],
   "source": [
    "# Firstly, let's calculate the average annual profit margin by location type\n",
    "\n",
    "# Get the data for owned and leased locations\n",
    "owned = data_annual.loc[data_annual['owned'] == True]\n",
    "leased = data_annual.loc[data_annual['owned'] == False]\n",
    "\n",
    "print('The average annual profit margin for owned locations is ' + str(\"{:.2%}\".format(owned.profit_margin.mean())))\n",
    "print('The average annual profit margin for leased locations is ' + str(\"{:.2%}\".format(leased.profit_margin.mean())))\n",
    "\n",
    "plt.hist([owned.profit_margin,leased.profit_margin], color=['#007D00','#8CB4E1'], alpha=1.0, bins=20)\n",
    "plt.xlabel('Profit Margin', fontsize=12)\n",
    "plt.ylabel('Frequency', fontsize=12)\n",
    "plt.title('Annual Profit Margin Distribution by Location Type', fontsize=15)\n",
    "plt.gca().xaxis.set_major_formatter(PercentFormatter(xmax=1, decimals=None, symbol='%', is_latex=False))\n",
    "plt.tick_params(labelsize=8)\n",
    "plt.legend(['Owned', 'Leased'], loc='upper left')\n",
    "plt.show()\n",
    "\n",
    "# Output the chart\n",
    "plt.savefig(\"Annual Profit Margin Distribution by Location Type.png\")"
   ]
  },
  {
   "cell_type": "code",
   "execution_count": 40,
   "metadata": {},
   "outputs": [],
   "source": [
    "# Approach: use the average ratio of rental cost/gross revenue by state to impute the rental cost for each owned location\n",
    "#leased = data_annual.loc[data_annual['owned'] == False]"
   ]
  },
  {
   "cell_type": "code",
   "execution_count": 42,
   "metadata": {},
   "outputs": [
    {
     "data": {
      "text/html": [
       "<div>\n",
       "<style scoped>\n",
       "    .dataframe tbody tr th:only-of-type {\n",
       "        vertical-align: middle;\n",
       "    }\n",
       "\n",
       "    .dataframe tbody tr th {\n",
       "        vertical-align: top;\n",
       "    }\n",
       "\n",
       "    .dataframe thead th {\n",
       "        text-align: right;\n",
       "    }\n",
       "</style>\n",
       "<table border=\"1\" class=\"dataframe\">\n",
       "  <thead>\n",
       "    <tr style=\"text-align: right;\">\n",
       "      <th></th>\n",
       "      <th>location_number</th>\n",
       "      <th>state</th>\n",
       "      <th>owned</th>\n",
       "      <th>gross_revenue</th>\n",
       "      <th>fixed_cost</th>\n",
       "      <th>variable_cost</th>\n",
       "      <th>rental_cost</th>\n",
       "      <th>number_of_products</th>\n",
       "      <th>profit_margin</th>\n",
       "      <th>rental_cost_impute</th>\n",
       "      <th>profit_margin_adj</th>\n",
       "      <th>perc_rental_cost</th>\n",
       "    </tr>\n",
       "  </thead>\n",
       "  <tbody>\n",
       "    <tr>\n",
       "      <th>0</th>\n",
       "      <td>1</td>\n",
       "      <td>TX</td>\n",
       "      <td>False</td>\n",
       "      <td>544,738,868.63</td>\n",
       "      <td>110,895,576.69</td>\n",
       "      <td>279,368,713.89</td>\n",
       "      <td>4390560</td>\n",
       "      <td>53424</td>\n",
       "      <td>0.28</td>\n",
       "      <td>4,390,560.00</td>\n",
       "      <td>0.28</td>\n",
       "      <td>0.81</td>\n",
       "    </tr>\n",
       "    <tr>\n",
       "      <th>1</th>\n",
       "      <td>2</td>\n",
       "      <td>TX</td>\n",
       "      <td>False</td>\n",
       "      <td>355,973,012.71</td>\n",
       "      <td>72,873,948.79</td>\n",
       "      <td>193,729,099.95</td>\n",
       "      <td>783240</td>\n",
       "      <td>54024</td>\n",
       "      <td>0.25</td>\n",
       "      <td>783,240.00</td>\n",
       "      <td>0.25</td>\n",
       "      <td>0.22</td>\n",
       "    </tr>\n",
       "    <tr>\n",
       "      <th>3</th>\n",
       "      <td>4</td>\n",
       "      <td>GA</td>\n",
       "      <td>False</td>\n",
       "      <td>263,984,311.31</td>\n",
       "      <td>64,104,092.80</td>\n",
       "      <td>143,239,809.71</td>\n",
       "      <td>1696920</td>\n",
       "      <td>53772</td>\n",
       "      <td>0.21</td>\n",
       "      <td>1,696,920.00</td>\n",
       "      <td>0.21</td>\n",
       "      <td>0.64</td>\n",
       "    </tr>\n",
       "    <tr>\n",
       "      <th>4</th>\n",
       "      <td>5</td>\n",
       "      <td>NJ</td>\n",
       "      <td>False</td>\n",
       "      <td>189,001,593.49</td>\n",
       "      <td>44,750,496.24</td>\n",
       "      <td>103,755,318.74</td>\n",
       "      <td>894000</td>\n",
       "      <td>54396</td>\n",
       "      <td>0.21</td>\n",
       "      <td>894,000.00</td>\n",
       "      <td>0.21</td>\n",
       "      <td>0.47</td>\n",
       "    </tr>\n",
       "    <tr>\n",
       "      <th>5</th>\n",
       "      <td>6</td>\n",
       "      <td>IL</td>\n",
       "      <td>False</td>\n",
       "      <td>117,024,430.37</td>\n",
       "      <td>31,993,754.01</td>\n",
       "      <td>65,840,306.80</td>\n",
       "      <td>393480</td>\n",
       "      <td>52476</td>\n",
       "      <td>0.16</td>\n",
       "      <td>393,480.00</td>\n",
       "      <td>0.16</td>\n",
       "      <td>0.34</td>\n",
       "    </tr>\n",
       "  </tbody>\n",
       "</table>\n",
       "</div>"
      ],
      "text/plain": [
       "   location_number state  owned  gross_revenue     fixed_cost  variable_cost  \\\n",
       "0                1    TX  False 544,738,868.63 110,895,576.69 279,368,713.89   \n",
       "1                2    TX  False 355,973,012.71  72,873,948.79 193,729,099.95   \n",
       "3                4    GA  False 263,984,311.31  64,104,092.80 143,239,809.71   \n",
       "4                5    NJ  False 189,001,593.49  44,750,496.24 103,755,318.74   \n",
       "5                6    IL  False 117,024,430.37  31,993,754.01  65,840,306.80   \n",
       "\n",
       "   rental_cost  number_of_products  profit_margin  rental_cost_impute  \\\n",
       "0      4390560               53424           0.28        4,390,560.00   \n",
       "1       783240               54024           0.25          783,240.00   \n",
       "3      1696920               53772           0.21        1,696,920.00   \n",
       "4       894000               54396           0.21          894,000.00   \n",
       "5       393480               52476           0.16          393,480.00   \n",
       "\n",
       "   profit_margin_adj  perc_rental_cost  \n",
       "0               0.28              0.81  \n",
       "1               0.25              0.22  \n",
       "3               0.21              0.64  \n",
       "4               0.21              0.47  \n",
       "5               0.16              0.34  "
      ]
     },
     "execution_count": 42,
     "metadata": {},
     "output_type": "execute_result"
    }
   ],
   "source": [
    "# Calculate the ratio of rental cost/gross revenue by location\n",
    "leased.loc[:,'perc_rental_cost'] = leased.rental_cost / leased.gross_revenue * 100\n",
    "leased.head()"
   ]
  },
  {
   "cell_type": "code",
   "execution_count": 30,
   "metadata": {},
   "outputs": [
    {
     "data": {
      "text/html": [
       "<div>\n",
       "<style scoped>\n",
       "    .dataframe tbody tr th:only-of-type {\n",
       "        vertical-align: middle;\n",
       "    }\n",
       "\n",
       "    .dataframe tbody tr th {\n",
       "        vertical-align: top;\n",
       "    }\n",
       "\n",
       "    .dataframe thead th {\n",
       "        text-align: right;\n",
       "    }\n",
       "</style>\n",
       "<table border=\"1\" class=\"dataframe\">\n",
       "  <thead>\n",
       "    <tr style=\"text-align: right;\">\n",
       "      <th></th>\n",
       "      <th>state</th>\n",
       "      <th>perc_rental_cost</th>\n",
       "    </tr>\n",
       "  </thead>\n",
       "  <tbody>\n",
       "    <tr>\n",
       "      <th>0</th>\n",
       "      <td>CA</td>\n",
       "      <td>0.61</td>\n",
       "    </tr>\n",
       "    <tr>\n",
       "      <th>1</th>\n",
       "      <td>CO</td>\n",
       "      <td>0.57</td>\n",
       "    </tr>\n",
       "    <tr>\n",
       "      <th>2</th>\n",
       "      <td>GA</td>\n",
       "      <td>0.63</td>\n",
       "    </tr>\n",
       "    <tr>\n",
       "      <th>3</th>\n",
       "      <td>IL</td>\n",
       "      <td>0.62</td>\n",
       "    </tr>\n",
       "    <tr>\n",
       "      <th>4</th>\n",
       "      <td>NJ</td>\n",
       "      <td>0.66</td>\n",
       "    </tr>\n",
       "    <tr>\n",
       "      <th>5</th>\n",
       "      <td>TX</td>\n",
       "      <td>0.55</td>\n",
       "    </tr>\n",
       "    <tr>\n",
       "      <th>6</th>\n",
       "      <td>WA</td>\n",
       "      <td>0.71</td>\n",
       "    </tr>\n",
       "  </tbody>\n",
       "</table>\n",
       "</div>"
      ],
      "text/plain": [
       "  state  perc_rental_cost\n",
       "0    CA              0.61\n",
       "1    CO              0.57\n",
       "2    GA              0.63\n",
       "3    IL              0.62\n",
       "4    NJ              0.66\n",
       "5    TX              0.55\n",
       "6    WA              0.71"
      ]
     },
     "execution_count": 30,
     "metadata": {},
     "output_type": "execute_result"
    }
   ],
   "source": [
    "# Get the average ratio of rental cost/gross revenue by state\n",
    "leased.groupby('state').mean()[['perc_rental_cost']].reset_index()"
   ]
  },
  {
   "cell_type": "code",
   "execution_count": 31,
   "metadata": {},
   "outputs": [
    {
     "data": {
      "text/html": [
       "<div>\n",
       "<style scoped>\n",
       "    .dataframe tbody tr th:only-of-type {\n",
       "        vertical-align: middle;\n",
       "    }\n",
       "\n",
       "    .dataframe tbody tr th {\n",
       "        vertical-align: top;\n",
       "    }\n",
       "\n",
       "    .dataframe thead th {\n",
       "        text-align: right;\n",
       "    }\n",
       "</style>\n",
       "<table border=\"1\" class=\"dataframe\">\n",
       "  <thead>\n",
       "    <tr style=\"text-align: right;\">\n",
       "      <th></th>\n",
       "      <th>location_number</th>\n",
       "      <th>state</th>\n",
       "      <th>owned</th>\n",
       "      <th>gross_revenue</th>\n",
       "      <th>fixed_cost</th>\n",
       "      <th>variable_cost</th>\n",
       "      <th>rental_cost</th>\n",
       "      <th>number_of_products</th>\n",
       "      <th>profit_margin</th>\n",
       "      <th>rental_cost_impute</th>\n",
       "    </tr>\n",
       "  </thead>\n",
       "  <tbody>\n",
       "    <tr>\n",
       "      <th>0</th>\n",
       "      <td>1</td>\n",
       "      <td>TX</td>\n",
       "      <td>False</td>\n",
       "      <td>544,738,868.63</td>\n",
       "      <td>110,895,576.69</td>\n",
       "      <td>279,368,713.89</td>\n",
       "      <td>4390560</td>\n",
       "      <td>53424</td>\n",
       "      <td>0.28</td>\n",
       "      <td>4,390,560.00</td>\n",
       "    </tr>\n",
       "    <tr>\n",
       "      <th>1</th>\n",
       "      <td>2</td>\n",
       "      <td>TX</td>\n",
       "      <td>False</td>\n",
       "      <td>355,973,012.71</td>\n",
       "      <td>72,873,948.79</td>\n",
       "      <td>193,729,099.95</td>\n",
       "      <td>783240</td>\n",
       "      <td>54024</td>\n",
       "      <td>0.25</td>\n",
       "      <td>783,240.00</td>\n",
       "    </tr>\n",
       "    <tr>\n",
       "      <th>2</th>\n",
       "      <td>3</td>\n",
       "      <td>IL</td>\n",
       "      <td>True</td>\n",
       "      <td>331,771,805.46</td>\n",
       "      <td>64,297,748.55</td>\n",
       "      <td>184,827,877.00</td>\n",
       "      <td>0</td>\n",
       "      <td>55440</td>\n",
       "      <td>0.25</td>\n",
       "      <td>2,056,985.19</td>\n",
       "    </tr>\n",
       "    <tr>\n",
       "      <th>3</th>\n",
       "      <td>4</td>\n",
       "      <td>GA</td>\n",
       "      <td>False</td>\n",
       "      <td>263,984,311.31</td>\n",
       "      <td>64,104,092.80</td>\n",
       "      <td>143,239,809.71</td>\n",
       "      <td>1696920</td>\n",
       "      <td>53772</td>\n",
       "      <td>0.21</td>\n",
       "      <td>1,696,920.00</td>\n",
       "    </tr>\n",
       "    <tr>\n",
       "      <th>4</th>\n",
       "      <td>5</td>\n",
       "      <td>NJ</td>\n",
       "      <td>False</td>\n",
       "      <td>189,001,593.49</td>\n",
       "      <td>44,750,496.24</td>\n",
       "      <td>103,755,318.74</td>\n",
       "      <td>894000</td>\n",
       "      <td>54396</td>\n",
       "      <td>0.21</td>\n",
       "      <td>894,000.00</td>\n",
       "    </tr>\n",
       "  </tbody>\n",
       "</table>\n",
       "</div>"
      ],
      "text/plain": [
       "   location_number state  owned  gross_revenue     fixed_cost  variable_cost  \\\n",
       "0                1    TX  False 544,738,868.63 110,895,576.69 279,368,713.89   \n",
       "1                2    TX  False 355,973,012.71  72,873,948.79 193,729,099.95   \n",
       "2                3    IL   True 331,771,805.46  64,297,748.55 184,827,877.00   \n",
       "3                4    GA  False 263,984,311.31  64,104,092.80 143,239,809.71   \n",
       "4                5    NJ  False 189,001,593.49  44,750,496.24 103,755,318.74   \n",
       "\n",
       "   rental_cost  number_of_products  profit_margin  rental_cost_impute  \n",
       "0      4390560               53424           0.28        4,390,560.00  \n",
       "1       783240               54024           0.25          783,240.00  \n",
       "2            0               55440           0.25        2,056,985.19  \n",
       "3      1696920               53772           0.21        1,696,920.00  \n",
       "4       894000               54396           0.21          894,000.00  "
      ]
     },
     "execution_count": 31,
     "metadata": {},
     "output_type": "execute_result"
    }
   ],
   "source": [
    "# Impute the rental cost for the owned locations by state\n",
    "def impute_rental(data):\n",
    "    if np.any(data['owned'] == True):\n",
    "        if np.any(data['state'] == 'CA'):\n",
    "            rental_cost_impute = data.gross_revenue * 0.61 / 100\n",
    "        elif np.any(data['state'] == 'CO'):\n",
    "            rental_cost_impute = data.gross_revenue * 0.57 / 100\n",
    "        elif np.any(data['state'] == 'GA'):\n",
    "            rental_cost_impute = data.gross_revenue * 0.63 / 100\n",
    "        elif np.any(data['state'] == 'IL'):\n",
    "            rental_cost_impute = data.gross_revenue * 0.62 / 100\n",
    "        elif np.any(data['state'] == 'NJ'):\n",
    "            rental_cost_impute = data.gross_revenue * 0.66 / 100\n",
    "        elif np.any(data['state'] == 'TX'):\n",
    "            rental_cost_impute = data.gross_revenue * 0.55 / 100\n",
    "        elif np.any(data['state'] == 'WA'):\n",
    "            rental_cost_impute = data.gross_revenue * 0.71 / 100\n",
    "    else:\n",
    "        rental_cost_impute = data.rental_cost\n",
    "    return rental_cost_impute\n",
    "\n",
    "data_annual['rental_cost_impute'] = data_annual.apply(impute_rental, axis=1)\n",
    "\n",
    "data_annual.head()"
   ]
  },
  {
   "cell_type": "code",
   "execution_count": 32,
   "metadata": {},
   "outputs": [
    {
     "data": {
      "text/html": [
       "<div>\n",
       "<style scoped>\n",
       "    .dataframe tbody tr th:only-of-type {\n",
       "        vertical-align: middle;\n",
       "    }\n",
       "\n",
       "    .dataframe tbody tr th {\n",
       "        vertical-align: top;\n",
       "    }\n",
       "\n",
       "    .dataframe thead th {\n",
       "        text-align: right;\n",
       "    }\n",
       "</style>\n",
       "<table border=\"1\" class=\"dataframe\">\n",
       "  <thead>\n",
       "    <tr style=\"text-align: right;\">\n",
       "      <th></th>\n",
       "      <th>location_number</th>\n",
       "      <th>state</th>\n",
       "      <th>owned</th>\n",
       "      <th>gross_revenue</th>\n",
       "      <th>fixed_cost</th>\n",
       "      <th>variable_cost</th>\n",
       "      <th>rental_cost</th>\n",
       "      <th>number_of_products</th>\n",
       "      <th>profit_margin</th>\n",
       "      <th>rental_cost_impute</th>\n",
       "      <th>profit_margin_adj</th>\n",
       "    </tr>\n",
       "  </thead>\n",
       "  <tbody>\n",
       "    <tr>\n",
       "      <th>0</th>\n",
       "      <td>1</td>\n",
       "      <td>TX</td>\n",
       "      <td>False</td>\n",
       "      <td>544,738,868.63</td>\n",
       "      <td>110,895,576.69</td>\n",
       "      <td>279,368,713.89</td>\n",
       "      <td>4390560</td>\n",
       "      <td>53424</td>\n",
       "      <td>0.28</td>\n",
       "      <td>4,390,560.00</td>\n",
       "      <td>0.28</td>\n",
       "    </tr>\n",
       "    <tr>\n",
       "      <th>1</th>\n",
       "      <td>2</td>\n",
       "      <td>TX</td>\n",
       "      <td>False</td>\n",
       "      <td>355,973,012.71</td>\n",
       "      <td>72,873,948.79</td>\n",
       "      <td>193,729,099.95</td>\n",
       "      <td>783240</td>\n",
       "      <td>54024</td>\n",
       "      <td>0.25</td>\n",
       "      <td>783,240.00</td>\n",
       "      <td>0.25</td>\n",
       "    </tr>\n",
       "    <tr>\n",
       "      <th>2</th>\n",
       "      <td>3</td>\n",
       "      <td>IL</td>\n",
       "      <td>True</td>\n",
       "      <td>331,771,805.46</td>\n",
       "      <td>64,297,748.55</td>\n",
       "      <td>184,827,877.00</td>\n",
       "      <td>0</td>\n",
       "      <td>55440</td>\n",
       "      <td>0.25</td>\n",
       "      <td>2,056,985.19</td>\n",
       "      <td>0.24</td>\n",
       "    </tr>\n",
       "    <tr>\n",
       "      <th>3</th>\n",
       "      <td>4</td>\n",
       "      <td>GA</td>\n",
       "      <td>False</td>\n",
       "      <td>263,984,311.31</td>\n",
       "      <td>64,104,092.80</td>\n",
       "      <td>143,239,809.71</td>\n",
       "      <td>1696920</td>\n",
       "      <td>53772</td>\n",
       "      <td>0.21</td>\n",
       "      <td>1,696,920.00</td>\n",
       "      <td>0.21</td>\n",
       "    </tr>\n",
       "    <tr>\n",
       "      <th>4</th>\n",
       "      <td>5</td>\n",
       "      <td>NJ</td>\n",
       "      <td>False</td>\n",
       "      <td>189,001,593.49</td>\n",
       "      <td>44,750,496.24</td>\n",
       "      <td>103,755,318.74</td>\n",
       "      <td>894000</td>\n",
       "      <td>54396</td>\n",
       "      <td>0.21</td>\n",
       "      <td>894,000.00</td>\n",
       "      <td>0.21</td>\n",
       "    </tr>\n",
       "  </tbody>\n",
       "</table>\n",
       "</div>"
      ],
      "text/plain": [
       "   location_number state  owned  gross_revenue     fixed_cost  variable_cost  \\\n",
       "0                1    TX  False 544,738,868.63 110,895,576.69 279,368,713.89   \n",
       "1                2    TX  False 355,973,012.71  72,873,948.79 193,729,099.95   \n",
       "2                3    IL   True 331,771,805.46  64,297,748.55 184,827,877.00   \n",
       "3                4    GA  False 263,984,311.31  64,104,092.80 143,239,809.71   \n",
       "4                5    NJ  False 189,001,593.49  44,750,496.24 103,755,318.74   \n",
       "\n",
       "   rental_cost  number_of_products  profit_margin  rental_cost_impute  \\\n",
       "0      4390560               53424           0.28        4,390,560.00   \n",
       "1       783240               54024           0.25          783,240.00   \n",
       "2            0               55440           0.25        2,056,985.19   \n",
       "3      1696920               53772           0.21        1,696,920.00   \n",
       "4       894000               54396           0.21          894,000.00   \n",
       "\n",
       "   profit_margin_adj  \n",
       "0               0.28  \n",
       "1               0.25  \n",
       "2               0.24  \n",
       "3               0.21  \n",
       "4               0.21  "
      ]
     },
     "execution_count": 32,
     "metadata": {},
     "output_type": "execute_result"
    }
   ],
   "source": [
    "# Calculate rent-adjusted annual profit margin\n",
    "data_annual['profit_margin_adj'] = (data_annual.gross_revenue - data_annual.fixed_cost - \n",
    "                                    data_annual.variable_cost - data_annual.rental_cost_impute) / data_annual.gross_revenue\n",
    "\n",
    "data_annual.head()"
   ]
  },
  {
   "cell_type": "code",
   "execution_count": 33,
   "metadata": {},
   "outputs": [
    {
     "data": {
      "image/png": "[encoded data removed]",
      "text/plain": [
       "<Figure size 432x288 with 1 Axes>"
      ]
     },
     "metadata": {
      "needs_background": "light"
     },
     "output_type": "display_data"
    },
    {
     "data": {
      "text/plain": [
       "<Figure size 432x288 with 0 Axes>"
      ]
     },
     "metadata": {},
     "output_type": "display_data"
    }
   ],
   "source": [
    "# Compare the adjusted and unadjusted annual profit margin in one histogram\n",
    "fig, ax = plt.subplots()\n",
    "ax.hist([data_annual.profit_margin_adj, data_annual.profit_margin], color=['#007D00','#8CB4E1'], alpha=0.7, bins=20)\n",
    "plt.xlabel('Profit Margin', fontsize=12)\n",
    "plt.ylabel('Frequency', fontsize=12)\n",
    "plt.title('Annual Profit Margin Distribution', fontsize=15)\n",
    "plt.gca().xaxis.set_major_formatter(PercentFormatter(xmax=1, decimals=None, symbol='%', is_latex=False))\n",
    "plt.tick_params(labelsize=8)\n",
    "plt.legend(['Adjusted', 'Unadjusted'], loc='upper left')\n",
    "plt.show()\n",
    "\n",
    "# Output the chart\n",
    "plt.savefig(\"Annual Profit Margin Distribution.png\")"
   ]
  },
  {
   "cell_type": "code",
   "execution_count": 34,
   "metadata": {},
   "outputs": [
    {
     "name": "stdout",
     "output_type": "stream",
     "text": [
      "The average rent-adjusted annual profit margin is 24.80%\n",
      "The average unadjusted annual profit margin is 24.86%\n"
     ]
    }
   ],
   "source": [
    "print('The average rent-adjusted annual profit margin is ' + str(\"{:.2%}\".format(data_annual.profit_margin_adj.mean())))\n",
    "print('The average unadjusted annual profit margin is ' + str(\"{:.2%}\".format(data_annual.profit_margin.mean())))"
   ]
  },
  {
   "cell_type": "code",
   "execution_count": 35,
   "metadata": {},
   "outputs": [],
   "source": [
    "# Part 3 – Quantify drivers of success:\n",
    "# With the data now cleaned, please identify factors that have led to historical outperformance across locations. \n",
    "# The CEO is principally focused on maximizing profit margin at each location. There is no single correct answer for \n",
    "# this section. We are more interested in your problem-solving process than any singular answer."
   ]
  },
  {
   "cell_type": "code",
   "execution_count": 36,
   "metadata": {},
   "outputs": [
    {
     "data": {
      "text/html": [
       "<div>\n",
       "<style scoped>\n",
       "    .dataframe tbody tr th:only-of-type {\n",
       "        vertical-align: middle;\n",
       "    }\n",
       "\n",
       "    .dataframe tbody tr th {\n",
       "        vertical-align: top;\n",
       "    }\n",
       "\n",
       "    .dataframe thead th {\n",
       "        text-align: right;\n",
       "    }\n",
       "</style>\n",
       "<table border=\"1\" class=\"dataframe\">\n",
       "  <thead>\n",
       "    <tr style=\"text-align: right;\">\n",
       "      <th></th>\n",
       "      <th>state</th>\n",
       "      <th>profit_margin_adj</th>\n",
       "    </tr>\n",
       "  </thead>\n",
       "  <tbody>\n",
       "    <tr>\n",
       "      <th>0</th>\n",
       "      <td>CA</td>\n",
       "      <td>0.26</td>\n",
       "    </tr>\n",
       "    <tr>\n",
       "      <th>1</th>\n",
       "      <td>CO</td>\n",
       "      <td>0.25</td>\n",
       "    </tr>\n",
       "    <tr>\n",
       "      <th>2</th>\n",
       "      <td>GA</td>\n",
       "      <td>0.21</td>\n",
       "    </tr>\n",
       "    <tr>\n",
       "      <th>3</th>\n",
       "      <td>IL</td>\n",
       "      <td>0.25</td>\n",
       "    </tr>\n",
       "    <tr>\n",
       "      <th>4</th>\n",
       "      <td>NJ</td>\n",
       "      <td>0.19</td>\n",
       "    </tr>\n",
       "    <tr>\n",
       "      <th>5</th>\n",
       "      <td>TX</td>\n",
       "      <td>0.28</td>\n",
       "    </tr>\n",
       "    <tr>\n",
       "      <th>6</th>\n",
       "      <td>WA</td>\n",
       "      <td>0.25</td>\n",
       "    </tr>\n",
       "  </tbody>\n",
       "</table>\n",
       "</div>"
      ],
      "text/plain": [
       "  state  profit_margin_adj\n",
       "0    CA               0.26\n",
       "1    CO               0.25\n",
       "2    GA               0.21\n",
       "3    IL               0.25\n",
       "4    NJ               0.19\n",
       "5    TX               0.28\n",
       "6    WA               0.25"
      ]
     },
     "execution_count": 36,
     "metadata": {},
     "output_type": "execute_result"
    }
   ],
   "source": [
    "# Get the average ratio of rental cost/gross revenue by state\n",
    "data_annual.groupby('state').mean()[['profit_margin_adj']].reset_index()"
   ]
  },
  {
   "cell_type": "code",
   "execution_count": 37,
   "metadata": {},
   "outputs": [
    {
     "data": {
      "image/png": "[encoded data removed]",
      "text/plain": [
       "<Figure size 432x288 with 1 Axes>"
      ]
     },
     "metadata": {
      "needs_background": "light"
     },
     "output_type": "display_data"
    }
   ],
   "source": [
    "ax = sns.boxplot(x = 'state', y = data_annual['profit_margin_adj'], data = data_annual, \n",
    "                 palette = sns.color_palette('RdBu',5))\n",
    "\n",
    "ax.set_title('Boxplot of Annual Profit Margin by State')\n",
    "ax.set_ylabel('State')\n",
    "ax.set_xlabel('Profit Margin')\n",
    "\n",
    "# Output the chart\n",
    "plt.savefig(\"Boxplot of Annual Profit Margin by State.png\")\n",
    "\n",
    "# Distribution of annual profit margin is different across states."
   ]
  },
  {
   "cell_type": "code",
   "execution_count": 38,
   "metadata": {},
   "outputs": [],
   "source": [
    "#array = pd.get_dummies(data_annual, columns=[\"state\"]).values\n",
    "#Y = array[:,12]\n",
    "#Y=Y.astype('int')\n",
    "#X = array[:,13:20]\n",
    "\n",
    "#validation_size = 0.20\n",
    "#seed = 7\n",
    "#X_train, X_validation, Y_train, Y_validation = model_selection.train_test_split(X, Y, test_size=validation_size, \n",
    "#                                                                                random_state=seed)"
   ]
  },
  {
   "cell_type": "code",
   "execution_count": 39,
   "metadata": {},
   "outputs": [],
   "source": [
    "# Initialize our classifier\n",
    "#gnb = GaussianNB()\n",
    "\n",
    "# Train our classifier\n",
    "#model = gnb.fit(X_train, Y_train)\n",
    "\n",
    "# Make predictions\n",
    "#preds = gnb.predict(X_validation)\n",
    "#print(preds)\n",
    "\n",
    "# Evaluate accuracy\n",
    "#print(accuracy_score(Y_validation, preds))"
   ]
  },
  {
   "cell_type": "code",
   "execution_count": null,
   "metadata": {},
   "outputs": [],
   "source": []
  }
 ],
 "metadata": {
  "kernelspec": {
   "display_name": "Python 3",
   "language": "python",
   "name": "python3"
  },
  "language_info": {
   "codemirror_mode": {
    "name": "ipython",
    "version": 3
   },
   "file_extension": ".py",
   "mimetype": "text/x-python",
   "name": "python",
   "nbconvert_exporter": "python",
   "pygments_lexer": "ipython3",
   "version": "3.7.3"
  }
 },
 "nbformat": 4,
 "nbformat_minor": 2
}
